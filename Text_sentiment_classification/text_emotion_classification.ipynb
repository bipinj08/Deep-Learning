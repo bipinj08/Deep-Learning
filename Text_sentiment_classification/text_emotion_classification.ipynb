{
 "cells": [
  {
   "cell_type": "code",
   "execution_count": 33,
   "id": "5a3d9dfe",
   "metadata": {},
   "outputs": [],
   "source": [
    "import numpy as np\n",
    "import pandas as pd\n",
    "import keras\n",
    "import tensorflow\n",
    "from sklearn.model_selection import train_test_split\n",
    "from tensorflow.keras.preprocessing.sequence import pad_sequences\n",
    "from sklearn.preprocessing import LabelEncoder\n",
    "from keras.preprocessing.text import Tokenizer\n",
    "from keras.models import Sequential\n",
    "from keras.layers import Embedding, Flatten, Dense\n",
    "from keras.utils import to_categorical"
   ]
  },
  {
   "cell_type": "code",
   "execution_count": 34,
   "id": "b28ca3c8",
   "metadata": {},
   "outputs": [],
   "source": [
    "data = pd.read_csv(r'C:\\Users\\User\\Desktop\\Data Science\\Deep Learning\\data\\text_emotion_classification\\train.txt', sep = \";\")"
   ]
  },
  {
   "cell_type": "code",
   "execution_count": 35,
   "id": "f708e259",
   "metadata": {},
   "outputs": [
    {
     "data": {
      "text/html": [
       "<div>\n",
       "<style scoped>\n",
       "    .dataframe tbody tr th:only-of-type {\n",
       "        vertical-align: middle;\n",
       "    }\n",
       "\n",
       "    .dataframe tbody tr th {\n",
       "        vertical-align: top;\n",
       "    }\n",
       "\n",
       "    .dataframe thead th {\n",
       "        text-align: right;\n",
       "    }\n",
       "</style>\n",
       "<table border=\"1\" class=\"dataframe\">\n",
       "  <thead>\n",
       "    <tr style=\"text-align: right;\">\n",
       "      <th></th>\n",
       "      <th>text</th>\n",
       "      <th>emotions</th>\n",
       "    </tr>\n",
       "  </thead>\n",
       "  <tbody>\n",
       "    <tr>\n",
       "      <th>0</th>\n",
       "      <td>i can go from feeling so hopeless to so damned...</td>\n",
       "      <td>sadness</td>\n",
       "    </tr>\n",
       "    <tr>\n",
       "      <th>1</th>\n",
       "      <td>im grabbing a minute to post i feel greedy wrong</td>\n",
       "      <td>anger</td>\n",
       "    </tr>\n",
       "    <tr>\n",
       "      <th>2</th>\n",
       "      <td>i am ever feeling nostalgic about the fireplac...</td>\n",
       "      <td>love</td>\n",
       "    </tr>\n",
       "    <tr>\n",
       "      <th>3</th>\n",
       "      <td>i am feeling grouchy</td>\n",
       "      <td>anger</td>\n",
       "    </tr>\n",
       "    <tr>\n",
       "      <th>4</th>\n",
       "      <td>ive been feeling a little burdened lately wasn...</td>\n",
       "      <td>sadness</td>\n",
       "    </tr>\n",
       "  </tbody>\n",
       "</table>\n",
       "</div>"
      ],
      "text/plain": [
       "                                                text emotions\n",
       "0  i can go from feeling so hopeless to so damned...  sadness\n",
       "1   im grabbing a minute to post i feel greedy wrong    anger\n",
       "2  i am ever feeling nostalgic about the fireplac...     love\n",
       "3                               i am feeling grouchy    anger\n",
       "4  ive been feeling a little burdened lately wasn...  sadness"
      ]
     },
     "execution_count": 35,
     "metadata": {},
     "output_type": "execute_result"
    }
   ],
   "source": [
    "data.columns = [\"text\", \"emotions\"]\n",
    "data.head()"
   ]
  },
  {
   "cell_type": "code",
   "execution_count": 36,
   "id": "e74166fb",
   "metadata": {},
   "outputs": [
    {
     "name": "stdout",
     "output_type": "stream",
     "text": [
      "['sadness' 'anger' 'love' 'surprise' 'fear' 'joy']\n"
     ]
    }
   ],
   "source": [
    "texts = data['text'].tolist()\n",
    "labels = data['emotions'].tolist()\n",
    "print(data['emotions'].unique())"
   ]
  },
  {
   "cell_type": "code",
   "execution_count": 37,
   "id": "3371a5a1",
   "metadata": {
    "scrolled": false
   },
   "outputs": [
    {
     "name": "stdout",
     "output_type": "stream",
     "text": [
      "i can go from feeling so hopeless to so damned hopeful just from being around someone who cares and is awake\n",
      "15212\n"
     ]
    }
   ],
   "source": [
    "# tokenize the text data\n",
    "\n",
    "tkn = Tokenizer()\n",
    "tkn.fit_on_texts(texts)\n",
    "print(texts[0])\n",
    "print(len(tkn.word_index))"
   ]
  },
  {
   "cell_type": "code",
   "execution_count": 38,
   "id": "d8eefcd1",
   "metadata": {},
   "outputs": [
    {
     "name": "stdout",
     "output_type": "stream",
     "text": [
      "[   0    0    0    0    0    0    0    0    0    0    0    0    0    0\n",
      "    0    0    0    0    0    0    0    0    0    0    0    0    0    0\n",
      "    0    0    0    0    0    0    0    0    0    0    0    0    0    0\n",
      "    0    0    0    1   39  100   59    7   14  493    4   14 3495  552\n",
      "   31   59   60  127  147   75 1479    3   21 1254]\n"
     ]
    }
   ],
   "source": [
    "# padding the data to feed into the neural network. Padding makes data to have same length to feed\n",
    "\n",
    "sequences = tkn.texts_to_sequences(texts)\n",
    "max_length = max([len(seq) for seq in sequences])\n",
    "padded_sequences = pad_sequences(sequences, maxlen = max_length)\n",
    "print(padded_sequences[0])"
   ]
  },
  {
   "cell_type": "code",
   "execution_count": 39,
   "id": "5178b43e",
   "metadata": {},
   "outputs": [
    {
     "name": "stdout",
     "output_type": "stream",
     "text": [
      "[4 0 3 ... 2 0 4]\n"
     ]
    }
   ],
   "source": [
    "# using label encoder to convert string into the numerical representation\n",
    "\n",
    "label_encoder = LabelEncoder()\n",
    "labels = label_encoder.fit_transform(labels)\n",
    "print(labels)"
   ]
  },
  {
   "cell_type": "code",
   "execution_count": 40,
   "id": "acf5062b",
   "metadata": {},
   "outputs": [],
   "source": [
    "# Encoding the label into one-hot label encorder\n",
    "one_hot_labels = keras.utils.to_categorical(labels)"
   ]
  },
  {
   "cell_type": "code",
   "execution_count": 41,
   "id": "e2cb5940",
   "metadata": {},
   "outputs": [],
   "source": [
    "x_train, x_test, y_train, y_test = train_test_split(padded_sequences, one_hot_labels, test_size = 0.2, random_state = 7)"
   ]
  },
  {
   "cell_type": "code",
   "execution_count": 44,
   "id": "51f81e9e",
   "metadata": {},
   "outputs": [
    {
     "name": "stdout",
     "output_type": "stream",
     "text": [
      "Epoch 1/10\n",
      "400/400 [==============================] - 19s 45ms/step - loss: 1.3367 - accuracy: 0.4905 - val_loss: 0.8687 - val_accuracy: 0.6906\n",
      "Epoch 2/10\n",
      "400/400 [==============================] - 19s 47ms/step - loss: 0.3346 - accuracy: 0.8992 - val_loss: 0.5259 - val_accuracy: 0.8225\n",
      "Epoch 3/10\n",
      "400/400 [==============================] - 18s 46ms/step - loss: 0.0592 - accuracy: 0.9859 - val_loss: 0.5891 - val_accuracy: 0.8172\n",
      "Epoch 4/10\n",
      "400/400 [==============================] - 19s 46ms/step - loss: 0.0236 - accuracy: 0.9953 - val_loss: 0.6055 - val_accuracy: 0.8244\n",
      "Epoch 5/10\n",
      "400/400 [==============================] - 19s 49ms/step - loss: 0.0173 - accuracy: 0.9962 - val_loss: 0.6715 - val_accuracy: 0.8175\n",
      "Epoch 6/10\n",
      "400/400 [==============================] - 20s 49ms/step - loss: 0.0130 - accuracy: 0.9971 - val_loss: 0.6963 - val_accuracy: 0.8194\n",
      "Epoch 7/10\n",
      "400/400 [==============================] - 19s 48ms/step - loss: 0.0109 - accuracy: 0.9974 - val_loss: 0.6941 - val_accuracy: 0.8175\n",
      "Epoch 8/10\n",
      "400/400 [==============================] - 19s 47ms/step - loss: 0.0098 - accuracy: 0.9979 - val_loss: 0.7698 - val_accuracy: 0.8094\n",
      "Epoch 9/10\n",
      "400/400 [==============================] - 19s 46ms/step - loss: 0.0097 - accuracy: 0.9980 - val_loss: 0.7900 - val_accuracy: 0.8112\n",
      "Epoch 10/10\n",
      "400/400 [==============================] - 19s 47ms/step - loss: 0.0093 - accuracy: 0.9980 - val_loss: 0.7678 - val_accuracy: 0.8109\n"
     ]
    },
    {
     "data": {
      "text/plain": [
       "<keras.callbacks.History at 0x237ae3e6f10>"
      ]
     },
     "execution_count": 44,
     "metadata": {},
     "output_type": "execute_result"
    }
   ],
   "source": [
    "model = Sequential()\n",
    "model.add(Embedding(input_dim= len(tkn.word_index)+ 1,\n",
    "                   output_dim = 128, input_length = max_length))\n",
    "model.add(Flatten())\n",
    "model.add(Dense(units = 128, activation = 'relu'))\n",
    "model.add(Dense(units = len(one_hot_labels[0]), activation = 'softmax'))\n",
    "model.compile(optimizer = 'adam', loss = 'categorical_crossentropy', metrics = ['accuracy'])\n",
    "model.fit(x_train, y_train, epochs = 10, batch_size = 32, validation_data = (x_test, y_test))"
   ]
  },
  {
   "cell_type": "code",
   "execution_count": 56,
   "id": "a3c4c40d",
   "metadata": {},
   "outputs": [
    {
     "name": "stdout",
     "output_type": "stream",
     "text": [
      "1/1 [==============================] - 0s 21ms/step\n",
      "[[0.01904604 0.26280832 0.6976272  0.0104871  0.00718176 0.00284956]] is output vector\n",
      "joy -- the actual emotion\n"
     ]
    }
   ],
   "source": [
    "input_text = \"She didn't come today because she lost her dog yesterday\"\n",
    "input_2 = \"I successfully cleared my exam today\"\n",
    "# process the input text\n",
    "input_sequence = tkn.texts_to_sequences([input_2])\n",
    "padded_input_sequence = pad_sequences(input_sequence, maxlen = max_length)\n",
    "prediction = model.predict(padded_input_sequence)\n",
    "print(prediction, 'is output vector')\n",
    "prediction_label = label_encoder.inverse_transform([np.argmax(prediction[0])])\n",
    "prediction_label = ' '.join(prediction_label)\n",
    "print(prediction_label, '-- the actual emotion')"
   ]
  },
  {
   "cell_type": "code",
   "execution_count": null,
   "id": "fef55787",
   "metadata": {},
   "outputs": [],
   "source": []
  }
 ],
 "metadata": {
  "kernelspec": {
   "display_name": "Python 3 (ipykernel)",
   "language": "python",
   "name": "python3"
  },
  "language_info": {
   "codemirror_mode": {
    "name": "ipython",
    "version": 3
   },
   "file_extension": ".py",
   "mimetype": "text/x-python",
   "name": "python",
   "nbconvert_exporter": "python",
   "pygments_lexer": "ipython3",
   "version": "3.9.15"
  }
 },
 "nbformat": 4,
 "nbformat_minor": 5
}
